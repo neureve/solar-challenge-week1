{
 "cells": [
  {
   "cell_type": "code",
   "execution_count": 34,
   "id": "baf7f5d9",
   "metadata": {},
   "outputs": [
    {
     "name": "stderr",
     "output_type": "stream",
     "text": [
      "C:\\Users\\hp\\AppData\\Local\\Temp\\ipykernel_13184\\3481008962.py:9: DtypeWarning: Columns (1,2,3,4,5,6,7,8,9,10,11,12,13,14,15,16,17) have mixed types. Specify dtype option on import or set low_memory=False.\n",
      "  df = pd.read_csv('../../data/benin.csv', encoding =  'latin1')\n"
     ]
    }
   ],
   "source": [
    "import pandas as pd\n",
    "import matplotlib.pyplot as plt\n",
    "import seaborn as sns\n",
    "from scipy.stats import zscore\n",
    "import os\n",
    "\n",
    "\n",
    "\n",
    "df = pd.read_csv('../../data/benin.csv', encoding =  'latin1')"
   ]
  },
  {
   "cell_type": "code",
   "execution_count": 35,
   "id": "24ebc907",
   "metadata": {},
   "outputs": [
    {
     "data": {
      "text/html": [
       "<div>\n",
       "<style scoped>\n",
       "    .dataframe tbody tr th:only-of-type {\n",
       "        vertical-align: middle;\n",
       "    }\n",
       "\n",
       "    .dataframe tbody tr th {\n",
       "        vertical-align: top;\n",
       "    }\n",
       "\n",
       "    .dataframe thead th {\n",
       "        text-align: right;\n",
       "    }\n",
       "</style>\n",
       "<table border=\"1\" class=\"dataframe\">\n",
       "  <thead>\n",
       "    <tr style=\"text-align: right;\">\n",
       "      <th></th>\n",
       "      <th>Comments</th>\n",
       "    </tr>\n",
       "  </thead>\n",
       "  <tbody>\n",
       "    <tr>\n",
       "      <th>count</th>\n",
       "      <td>0.0</td>\n",
       "    </tr>\n",
       "    <tr>\n",
       "      <th>mean</th>\n",
       "      <td>NaN</td>\n",
       "    </tr>\n",
       "    <tr>\n",
       "      <th>std</th>\n",
       "      <td>NaN</td>\n",
       "    </tr>\n",
       "    <tr>\n",
       "      <th>min</th>\n",
       "      <td>NaN</td>\n",
       "    </tr>\n",
       "    <tr>\n",
       "      <th>25%</th>\n",
       "      <td>NaN</td>\n",
       "    </tr>\n",
       "    <tr>\n",
       "      <th>50%</th>\n",
       "      <td>NaN</td>\n",
       "    </tr>\n",
       "    <tr>\n",
       "      <th>75%</th>\n",
       "      <td>NaN</td>\n",
       "    </tr>\n",
       "    <tr>\n",
       "      <th>max</th>\n",
       "      <td>NaN</td>\n",
       "    </tr>\n",
       "  </tbody>\n",
       "</table>\n",
       "</div>"
      ],
      "text/plain": [
       "       Comments\n",
       "count       0.0\n",
       "mean        NaN\n",
       "std         NaN\n",
       "min         NaN\n",
       "25%         NaN\n",
       "50%         NaN\n",
       "75%         NaN\n",
       "max         NaN"
      ]
     },
     "execution_count": 35,
     "metadata": {},
     "output_type": "execute_result"
    }
   ],
   "source": [
    "df.describe()\n"
   ]
  },
  {
   "cell_type": "code",
   "execution_count": 36,
   "id": "6385e6bd",
   "metadata": {},
   "outputs": [
    {
     "name": "stderr",
     "output_type": "stream",
     "text": [
      "C:\\Users\\hp\\AppData\\Local\\Temp\\ipykernel_13184\\3908643666.py:2: UserWarning: Could not infer format, so each element will be parsed individually, falling back to `dateutil`. To ensure parsing is consistent and as-expected, please specify a format.\n",
      "  df['Timestamp'] = pd.to_datetime(df['Timestamp'], errors='coerce')\n"
     ]
    },
    {
     "name": "stdout",
     "output_type": "stream",
     "text": [
      "<class 'pandas.core.frame.DataFrame'>\n",
      "RangeIndex: 525601 entries, 0 to 525600\n",
      "Data columns (total 19 columns):\n",
      " #   Column         Non-Null Count   Dtype         \n",
      "---  ------         --------------   -----         \n",
      " 0   Timestamp      525600 non-null  datetime64[ns]\n",
      " 1   GHI            525600 non-null  float64       \n",
      " 2   DNI            525600 non-null  float64       \n",
      " 3   DHI            525600 non-null  float64       \n",
      " 4   ModA           525600 non-null  float64       \n",
      " 5   ModB           525600 non-null  float64       \n",
      " 6   Tamb           525600 non-null  float64       \n",
      " 7   RH             525600 non-null  float64       \n",
      " 8   WS             525600 non-null  float64       \n",
      " 9   WSgust         525600 non-null  float64       \n",
      " 10  WSstdev        525600 non-null  float64       \n",
      " 11  WD             525600 non-null  float64       \n",
      " 12  WDstdev        525600 non-null  float64       \n",
      " 13  BP             525600 non-null  float64       \n",
      " 14  Cleaning       525600 non-null  float64       \n",
      " 15  Precipitation  525600 non-null  float64       \n",
      " 16  TModA          525600 non-null  float64       \n",
      " 17  TModB          525600 non-null  float64       \n",
      " 18  Comments       0 non-null       float64       \n",
      "dtypes: datetime64[ns](1), float64(18)\n",
      "memory usage: 76.2 MB\n"
     ]
    }
   ],
   "source": [
    "# Convert Timestamp to datetime\n",
    "df['Timestamp'] = pd.to_datetime(df['Timestamp'], errors='coerce')\n",
    "# Convert all other columns (except Timestamp and Comments) to numeric\n",
    "for col in df.columns:\n",
    "    if col not in ['Timestamp', 'Comments']:\n",
    "        df[col] = pd.to_numeric(df[col], errors='coerce')\n",
    "df.info()"
   ]
  },
  {
   "cell_type": "code",
   "execution_count": null,
   "id": "5f63df1d",
   "metadata": {},
   "outputs": [
    {
     "data": {
      "text/plain": [
       "Timestamp             1\n",
       "GHI                   1\n",
       "DNI                   1\n",
       "DHI                   1\n",
       "ModA                  1\n",
       "ModB                  1\n",
       "Tamb                  1\n",
       "RH                    1\n",
       "WS                    1\n",
       "WSgust                1\n",
       "WSstdev               1\n",
       "WD                    1\n",
       "WDstdev               1\n",
       "BP                    1\n",
       "Cleaning              1\n",
       "Precipitation         1\n",
       "TModA                 1\n",
       "TModB                 1\n",
       "Comments         525601\n",
       "dtype: int64"
      ]
     },
     "execution_count": 37,
     "metadata": {},
     "output_type": "execute_result"
    }
   ],
   "source": [
    "df.isna().sum()"
   ]
  },
  {
   "cell_type": "code",
   "execution_count": 38,
   "id": "339c805b",
   "metadata": {},
   "outputs": [
    {
     "name": "stdout",
     "output_type": "stream",
     "text": [
      "Columns with more than 5% missing values:\n",
      "Comments    100.0\n",
      "dtype: float64\n"
     ]
    }
   ],
   "source": [
    "\n",
    "missing_counts = df.isna().sum()\n",
    "missing_percent = (missing_counts / len(df)) * 100\n",
    "columns_with_gt_5pct_nulls = missing_percent[missing_percent > 5]\n",
    "print(\"Columns with more than 5% missing values:\")\n",
    "print(columns_with_gt_5pct_nulls)\n"
   ]
  },
  {
   "cell_type": "code",
   "execution_count": 39,
   "id": "69a99851",
   "metadata": {},
   "outputs": [
    {
     "name": "stdout",
     "output_type": "stream",
     "text": [
      "🔍 Missing Values (>0):\n",
      "GHI       1\n",
      "DNI       1\n",
      "DHI       1\n",
      "ModA      1\n",
      "ModB      1\n",
      "WS        1\n",
      "WSgust    1\n",
      "dtype: int64\n",
      "\n",
      "📊 Descriptive Stats:\n",
      "                 GHI            DNI            DHI           ModA  \\\n",
      "count  525600.000000  525600.000000  525600.000000  525600.000000   \n",
      "mean      240.559452     167.187516     115.358961     236.589496   \n",
      "std       331.131327     261.710501     158.691074     326.894859   \n",
      "min       -12.900000      -7.800000     -12.600000       0.000000   \n",
      "25%        -2.000000      -0.500000      -2.100000       0.000000   \n",
      "50%         1.800000      -0.100000       1.600000       4.500000   \n",
      "75%       483.400000     314.200000     216.300000     463.700000   \n",
      "max      1413.000000     952.300000     759.200000    1342.300000   \n",
      "\n",
      "                ModB             WS         WSgust  \n",
      "count  525600.000000  525600.000000  525600.000000  \n",
      "mean      228.883576       2.121113       2.809195  \n",
      "std       316.536515       1.603466       2.029120  \n",
      "min         0.000000       0.000000       0.000000  \n",
      "25%         0.000000       1.000000       1.300000  \n",
      "50%         4.300000       1.900000       2.600000  \n",
      "75%       447.900000       3.100000       4.100000  \n",
      "max      1342.300000      19.500000      26.600000  \n",
      "\n",
      "❗ Negative or unrealistic values:\n",
      "GHI has 258847 negative values\n",
      "DNI has 275987 negative values\n",
      "DHI has 259182 negative values\n",
      "ModA has 0 negative values\n",
      "ModB has 0 negative values\n",
      "WS has 0 negative values\n",
      "WSgust has 0 negative values\n",
      "\n",
      "🚨 Outlier detection using IQR:\n",
      "GHI: 145 outliers\n",
      "DNI: 15196 outliers\n",
      "DHI: 8733 outliers\n",
      "ModA: 98 outliers\n",
      "ModB: 240 outliers\n",
      "WS: 6717 outliers\n",
      "WSgust: 5368 outliers\n"
     ]
    }
   ],
   "source": [
    "# Define relevant columns\n",
    "irradiance_cols = ['GHI', 'DNI', 'DHI']\n",
    "sensor_cols = ['ModA', 'ModB']\n",
    "wind_cols = ['WS', 'WSgust']\n",
    "all_cols = irradiance_cols + sensor_cols + wind_cols\n",
    "\n",
    "# --- 1. Convert columns to numeric (safe parsing)\n",
    "for col in all_cols:\n",
    "    df[col] = pd.to_numeric(df[col], errors='coerce')  # convert invalid strings to NaN\n",
    "\n",
    "# --- 2. Check for missing values\n",
    "missing = df[all_cols].isna().sum()\n",
    "missing_percent = (missing / len(df)) * 100\n",
    "print(\"🔍 Missing Values (>0):\")\n",
    "print(missing[missing > 0])\n",
    "\n",
    "# --- 3. Basic descriptive statistics\n",
    "print(\"\\n📊 Descriptive Stats:\")\n",
    "print(df[all_cols].describe())\n",
    "\n",
    "# --- 4. Check for negative values\n",
    "print(\"\\n❗ Negative or unrealistic values:\")\n",
    "for col in all_cols:\n",
    "    num_negatives = df[df[col] < 0].shape[0]\n",
    "    print(f\"{col} has {num_negatives} negative values\")\n",
    "\n",
    "# --- 5. Detect outliers using IQR method\n",
    "print(\"\\n🚨 Outlier detection using IQR:\")\n",
    "for col in all_cols:\n",
    "    Q1 = df[col].quantile(0.25)\n",
    "    Q3 = df[col].quantile(0.75)\n",
    "    IQR = Q3 - Q1\n",
    "    lower_bound = Q1 - 1.5 * IQR\n",
    "    upper_bound = Q3 + 1.5 * IQR\n",
    "    outliers = df[(df[col] < lower_bound) | (df[col] > upper_bound)]\n",
    "    print(f\"{col}: {len(outliers)} outliers\")\n",
    "\n"
   ]
  },
  {
   "cell_type": "code",
   "execution_count": 40,
   "id": "c13d7739",
   "metadata": {},
   "outputs": [
    {
     "name": "stdout",
     "output_type": "stream",
     "text": [
      "\n",
      "🚨 Total rows with |Z| > 3 in any column: 7740\n",
      "\n",
      "🔍 Sample outlier rows:\n",
      "        GHI    DNI    DHI    ModA    ModB   WS  WSgust\n",
      "671   836.0  235.0  610.6   778.8   783.8  3.2     4.1\n",
      "672  1274.0  698.8  615.2  1210.3  1210.3  3.4     4.1\n",
      "673   938.0  340.1  612.8   891.1   891.1  3.4     4.6\n",
      "674   718.5  126.8  593.2   682.6   682.6  4.7     5.6\n",
      "675  1349.0  771.8  618.0  1281.5  1281.5  4.0     4.6\n"
     ]
    }
   ],
   "source": [
    "\n",
    "\n",
    "# Define target columns\n",
    "columns = ['GHI', 'DNI', 'DHI', 'ModA', 'ModB', 'WS', 'WSgust']\n",
    "\n",
    "# Ensure all columns are numeric\n",
    "for col in columns:\n",
    "    df[col] = pd.to_numeric(df[col], errors='coerce')\n",
    "\n",
    "# Drop rows with missing values in selected columns (optional but recommended for Z-score)\n",
    "df_clean = df[columns].dropna()\n",
    "\n",
    "# Compute Z-scores\n",
    "z_scores = df_clean.apply(zscore)\n",
    "\n",
    "# Flag rows where any Z-score > 3 or < -3\n",
    "outlier_flags = (z_scores.abs() > 3)\n",
    "\n",
    "# Combine with original indices\n",
    "outlier_rows = outlier_flags.any(axis=1)\n",
    "\n",
    "# Print number of outliers and sample\n",
    "print(f\"\\n🚨 Total rows with |Z| > 3 in any column: {outlier_rows.sum()}\")\n",
    "print(\"\\n🔍 Sample outlier rows:\")\n",
    "print(df_clean[outlier_rows].head())\n",
    "\n",
    "# Optional: Get index of flagged rows\n",
    "outlier_indices = df_clean[outlier_rows].index\n"
   ]
  },
  {
   "cell_type": "code",
   "execution_count": 41,
   "id": "2be25c19",
   "metadata": {},
   "outputs": [
    {
     "name": "stderr",
     "output_type": "stream",
     "text": [
      "C:\\Users\\hp\\AppData\\Local\\Temp\\ipykernel_13184\\774207399.py:11: FutureWarning: A value is trying to be set on a copy of a DataFrame or Series through chained assignment using an inplace method.\n",
      "The behavior will change in pandas 3.0. This inplace method will never work because the intermediate object on which we are setting values always behaves as a copy.\n",
      "\n",
      "For example, when doing 'df[col].method(value, inplace=True)', try using 'df.method({col: value}, inplace=True)' or df[col] = df[col].method(value) instead, to perform the operation inplace on the original object.\n",
      "\n",
      "\n",
      "  df[col].fillna(median, inplace=True)\n",
      "C:\\Users\\hp\\AppData\\Local\\Temp\\ipykernel_13184\\774207399.py:11: FutureWarning: A value is trying to be set on a copy of a DataFrame or Series through chained assignment using an inplace method.\n",
      "The behavior will change in pandas 3.0. This inplace method will never work because the intermediate object on which we are setting values always behaves as a copy.\n",
      "\n",
      "For example, when doing 'df[col].method(value, inplace=True)', try using 'df.method({col: value}, inplace=True)' or df[col] = df[col].method(value) instead, to perform the operation inplace on the original object.\n",
      "\n",
      "\n",
      "  df[col].fillna(median, inplace=True)\n",
      "C:\\Users\\hp\\AppData\\Local\\Temp\\ipykernel_13184\\774207399.py:11: FutureWarning: A value is trying to be set on a copy of a DataFrame or Series through chained assignment using an inplace method.\n",
      "The behavior will change in pandas 3.0. This inplace method will never work because the intermediate object on which we are setting values always behaves as a copy.\n",
      "\n",
      "For example, when doing 'df[col].method(value, inplace=True)', try using 'df.method({col: value}, inplace=True)' or df[col] = df[col].method(value) instead, to perform the operation inplace on the original object.\n",
      "\n",
      "\n",
      "  df[col].fillna(median, inplace=True)\n",
      "C:\\Users\\hp\\AppData\\Local\\Temp\\ipykernel_13184\\774207399.py:11: FutureWarning: A value is trying to be set on a copy of a DataFrame or Series through chained assignment using an inplace method.\n",
      "The behavior will change in pandas 3.0. This inplace method will never work because the intermediate object on which we are setting values always behaves as a copy.\n",
      "\n",
      "For example, when doing 'df[col].method(value, inplace=True)', try using 'df.method({col: value}, inplace=True)' or df[col] = df[col].method(value) instead, to perform the operation inplace on the original object.\n",
      "\n",
      "\n",
      "  df[col].fillna(median, inplace=True)\n",
      "C:\\Users\\hp\\AppData\\Local\\Temp\\ipykernel_13184\\774207399.py:11: FutureWarning: A value is trying to be set on a copy of a DataFrame or Series through chained assignment using an inplace method.\n",
      "The behavior will change in pandas 3.0. This inplace method will never work because the intermediate object on which we are setting values always behaves as a copy.\n",
      "\n",
      "For example, when doing 'df[col].method(value, inplace=True)', try using 'df.method({col: value}, inplace=True)' or df[col] = df[col].method(value) instead, to perform the operation inplace on the original object.\n",
      "\n",
      "\n",
      "  df[col].fillna(median, inplace=True)\n",
      "C:\\Users\\hp\\AppData\\Local\\Temp\\ipykernel_13184\\774207399.py:11: FutureWarning: A value is trying to be set on a copy of a DataFrame or Series through chained assignment using an inplace method.\n",
      "The behavior will change in pandas 3.0. This inplace method will never work because the intermediate object on which we are setting values always behaves as a copy.\n",
      "\n",
      "For example, when doing 'df[col].method(value, inplace=True)', try using 'df.method({col: value}, inplace=True)' or df[col] = df[col].method(value) instead, to perform the operation inplace on the original object.\n",
      "\n",
      "\n",
      "  df[col].fillna(median, inplace=True)\n",
      "C:\\Users\\hp\\AppData\\Local\\Temp\\ipykernel_13184\\774207399.py:11: FutureWarning: A value is trying to be set on a copy of a DataFrame or Series through chained assignment using an inplace method.\n",
      "The behavior will change in pandas 3.0. This inplace method will never work because the intermediate object on which we are setting values always behaves as a copy.\n",
      "\n",
      "For example, when doing 'df[col].method(value, inplace=True)', try using 'df.method({col: value}, inplace=True)' or df[col] = df[col].method(value) instead, to perform the operation inplace on the original object.\n",
      "\n",
      "\n",
      "  df[col].fillna(median, inplace=True)\n"
     ]
    }
   ],
   "source": [
    "# Define key columns\n",
    "key_cols = ['GHI', 'DNI', 'DHI', 'ModA', 'ModB', 'WS', 'WSgust']\n",
    "\n",
    "# Convert to numeric safely\n",
    "for col in key_cols:\n",
    "    df[col] = pd.to_numeric(df[col], errors='coerce')\n",
    "\n",
    "# Impute missing values with median\n",
    "for col in key_cols:\n",
    "    median = df[col].median()\n",
    "    df[col].fillna(median, inplace=True)\n"
   ]
  },
  {
   "cell_type": "code",
   "execution_count": 42,
   "id": "fd5fe3ae",
   "metadata": {},
   "outputs": [],
   "source": [
    "\n",
    "\n",
    "os.makedirs(\"data\", exist_ok=True)\n",
    "\n",
    "# Replace 'Kenya' with the actual country name if needed\n",
    "country = \"Benin\"\n",
    "df.to_csv(f\"data/{country}_clean.csv\", index=False)\n"
   ]
  }
 ],
 "metadata": {
  "kernelspec": {
   "display_name": ".venv",
   "language": "python",
   "name": "python3"
  },
  "language_info": {
   "codemirror_mode": {
    "name": "ipython",
    "version": 3
   },
   "file_extension": ".py",
   "mimetype": "text/x-python",
   "name": "python",
   "nbconvert_exporter": "python",
   "pygments_lexer": "ipython3",
   "version": "3.13.3"
  }
 },
 "nbformat": 4,
 "nbformat_minor": 5
}
